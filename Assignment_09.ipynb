{
 "cells": [
  {
   "cell_type": "code",
   "execution_count": 17,
   "id": "62756b12-eb5e-4f94-b42d-e5af48a4f459",
   "metadata": {},
   "outputs": [
    {
     "name": "stdout",
     "output_type": "stream",
     "text": [
      "You cant divide number by zero\n"
     ]
    }
   ],
   "source": [
    "try:\n",
    "    print(10/0)\n",
    "except ZeroDivisionError:\n",
    "    print(\"You cant divide number by zero\")"
   ]
  },
  {
   "cell_type": "code",
   "execution_count": 19,
   "id": "9c907d02-47a0-4e43-a38c-7b6238824f05",
   "metadata": {},
   "outputs": [
    {
     "name": "stdout",
     "output_type": "stream",
     "text": [
      "variable is not defined\n"
     ]
    }
   ],
   "source": [
    "try:\n",
    "    print(x)\n",
    "except NameError:\n",
    "    print(\"variable is not defined\")"
   ]
  },
  {
   "cell_type": "code",
   "execution_count": 25,
   "id": "53215532-3235-45b1-ae75-ecd054ad105f",
   "metadata": {},
   "outputs": [
    {
     "name": "stdout",
     "output_type": "stream",
     "text": [
      "File does not exist\n",
      "operation failed\n"
     ]
    }
   ],
   "source": [
    "try:\n",
    "    f=open(\"n.txt\")\n",
    "except FileNotFoundError:\n",
    "    print(\"File does not exist\")\n",
    "finally:\n",
    "    print(\"operation failed\")"
   ]
  },
  {
   "cell_type": "code",
   "execution_count": 50,
   "id": "1fe1a8b8-3a3f-4eaf-9827-c41e52bbdc6a",
   "metadata": {},
   "outputs": [
    {
     "name": "stdout",
     "output_type": "stream",
     "text": [
      "the number is positive\n"
     ]
    }
   ],
   "source": [
    "try:\n",
    "    number=78\n",
    "    if number >= 0 :\n",
    "        print(\"the number is positive\")\n",
    "    else:\n",
    "        print(\"the number is negative\")\n",
    "except:\n",
    "    print(\"something went wrong\")\n",
    "    \n"
   ]
  },
  {
   "cell_type": "code",
   "execution_count": 62,
   "id": "9b08845e-6789-4320-94d8-6b9eee180ef6",
   "metadata": {},
   "outputs": [
    {
     "name": "stdin",
     "output_type": "stream",
     "text": [
      " -16\n"
     ]
    },
    {
     "name": "stdout",
     "output_type": "stream",
     "text": [
      "age cannot be negative\n"
     ]
    }
   ],
   "source": [
    "try :\n",
    "    age=int(input())\n",
    "    if age >= 0:\n",
    "        print(age)\n",
    "    else:\n",
    "        raise ValueError(\"age cannot be negative\")\n",
    "except ValueError as v :\n",
    "    print(\"age cannot be negative\")"
   ]
  },
  {
   "cell_type": "code",
   "execution_count": null,
   "id": "d9931f31-22d4-4960-b8a6-575328b0bdae",
   "metadata": {},
   "outputs": [],
   "source": []
  }
 ],
 "metadata": {
  "kernelspec": {
   "display_name": "Python [conda env:base] *",
   "language": "python",
   "name": "conda-base-py"
  },
  "language_info": {
   "codemirror_mode": {
    "name": "ipython",
    "version": 3
   },
   "file_extension": ".py",
   "mimetype": "text/x-python",
   "name": "python",
   "nbconvert_exporter": "python",
   "pygments_lexer": "ipython3",
   "version": "3.12.7"
  }
 },
 "nbformat": 4,
 "nbformat_minor": 5
}
