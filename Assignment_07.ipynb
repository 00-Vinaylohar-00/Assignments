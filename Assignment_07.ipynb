{
 "cells": [
  {
   "cell_type": "code",
   "execution_count": 23,
   "id": "5a56c743-bdb0-422e-afa5-c70f01b01cd9",
   "metadata": {},
   "outputs": [
    {
     "name": "stdout",
     "output_type": "stream",
     "text": [
      "name of dog is:Wolf and species of dog is :Siberian\n",
      "woof! Woof!\n",
      "None\n"
     ]
    }
   ],
   "source": [
    "class Animal():\n",
    "    def __init__(self,name,species):\n",
    "        self.name=name\n",
    "        self.species=species\n",
    "\n",
    "    def Describe(self):\n",
    "        return (f\"name of dog is:{self.name} and species of dog is :{self.species}\")\n",
    "\n",
    "class Dog(Animal):\n",
    "    def __init__(self,breed,name,species):\n",
    "        super().__init__(name,species)\n",
    "        self.breed=breed\n",
    "    \n",
    "    def Bark(self):\n",
    "        print(\"woof! Woof!\")\n",
    "        \n",
    "\n",
    "        \n",
    "P1=Dog(\"Husky\",\"Wolf\",\"Siberian\")\n",
    "print(P1.Describe())\n",
    "print(P1.Bark())\n",
    "        "
   ]
  },
  {
   "cell_type": "code",
   "execution_count": 35,
   "id": "b709655d-a1f6-4d45-ba5b-4ef0265b6c83",
   "metadata": {},
   "outputs": [
    {
     "name": "stdout",
     "output_type": "stream",
     "text": [
      "full name of person is Suresh, Rane\n",
      "The Employee Id is :234567\n"
     ]
    }
   ],
   "source": [
    "class Person():\n",
    "    def __init__(self,first_nm,Last_nm):\n",
    "        self.first_nm=first_nm\n",
    "        self.Last_nm=Last_nm\n",
    "\n",
    "    def PrintName(self):\n",
    "        return (f\"full name of person is {self.first_nm}, {self.Last_nm}\")\n",
    "\n",
    "class Employee(Person):\n",
    "    def __init__(self,Emp_Id,first_nm,Last_nm):\n",
    "        super().__init__(first_nm,Last_nm)\n",
    "        self.Emp_Id=Emp_Id\n",
    "\n",
    "    def Print_Employee_info(self):\n",
    "        return (f\"The Employee Id is :{self.Emp_Id}\")\n",
    "\n",
    "\n",
    "P2=Employee(234567,\"Suresh\" ,\"Rane\")\n",
    "print(P2.PrintName())\n",
    "print(P2.Print_Employee_info())\n",
    "        \n",
    "        "
   ]
  },
  {
   "cell_type": "code",
   "execution_count": 55,
   "id": "4a9adbe7-13e6-4a4f-abda-9188ca432d65",
   "metadata": {},
   "outputs": [
    {
     "name": "stdout",
     "output_type": "stream",
     "text": [
      "the area of rectangle is 450\n",
      "the area of circle is 31.400000000000002\n"
     ]
    }
   ],
   "source": [
    "class Shape():\n",
    "    def Area(self):\n",
    "        return 0\n",
    "\n",
    "class Rectangle(Shape):\n",
    "    def __init__(self,length,breadth):\n",
    "        self.length=length\n",
    "        self.breadth=breadth\n",
    "\n",
    "    def Area(self):\n",
    "        return (f\"the area of rectangle is {self.length * self.breadth}\")\n",
    "\n",
    "class Circle(Shape):\n",
    "    def __init__(self,dai):\n",
    "        self.dai=dai\n",
    "\n",
    "    def Area(self):\n",
    "        return (f\"the area of circle is {3.14*(self.dai)}\")\n",
    "\n",
    "P3=Rectangle(15,30)\n",
    "P4=Circle(10)\n",
    "print(P3.Area())\n",
    "print(P4.Area())"
   ]
  },
  {
   "cell_type": "code",
   "execution_count": 73,
   "id": "d71aef2d-3898-400a-98dd-702b1f664646",
   "metadata": {},
   "outputs": [
    {
     "name": "stdout",
     "output_type": "stream",
     "text": [
      "Quacked\n",
      "Swimmed\n",
      "Flyed\n"
     ]
    }
   ],
   "source": [
    "class Flying():\n",
    "    def Fly(self):\n",
    "        return \"Flyed\"\n",
    "\n",
    "class Swiming():\n",
    "    def Swim(self):\n",
    "        return \"Swimmed\"\n",
    "\n",
    "class Duck(Flying,Swiming):\n",
    "    def Quack(self):\n",
    "        return \"Quacked\"\n",
    "\n",
    "\n",
    "P5=Duck()\n",
    "print(P5.Quack())\n",
    "print(P5.Swim())\n",
    "print(P5.Fly())\n",
    "    "
   ]
  },
  {
   "cell_type": "code",
   "execution_count": 77,
   "id": "e1688e15-cd96-41c8-87c3-a3c066854f53",
   "metadata": {},
   "outputs": [
    {
     "data": {
      "text/plain": [
       "'its method A'"
      ]
     },
     "execution_count": 77,
     "metadata": {},
     "output_type": "execute_result"
    }
   ],
   "source": [
    "class A():\n",
    "    def Method_a(self):\n",
    "        return \"its method A\"\n",
    "\n",
    "class E():\n",
    "    def Method_e(self):\n",
    "        return \"Its class E\"\n",
    "\n",
    "class B(A):\n",
    "    def Method_b(self):\n",
    "        return \"Its class B\"\n",
    "\n",
    "class C(A,E):\n",
    "    def Method_c(self):\n",
    "        return \"Its class C\"\n",
    "\n",
    "class D(B,C):\n",
    "    def Method_d(self):\n",
    "        return \"Its class D\"\n",
    "\n",
    "P6=D()\n",
    "print(P6.Method_d())\n",
    "print(P6.Method_c())\n",
    "print(P6.Method_b())\n",
    "print(P6.Method_e())\n",
    "print(P6.Method_a())\n",
    "\n"
   ]
  },
  {
   "cell_type": "code",
   "execution_count": null,
   "id": "a0b1ae25-c9cb-42fe-9c7c-2c55ff49c408",
   "metadata": {},
   "outputs": [],
   "source": []
  }
 ],
 "metadata": {
  "kernelspec": {
   "display_name": "Python [conda env:base] *",
   "language": "python",
   "name": "conda-base-py"
  },
  "language_info": {
   "codemirror_mode": {
    "name": "ipython",
    "version": 3
   },
   "file_extension": ".py",
   "mimetype": "text/x-python",
   "name": "python",
   "nbconvert_exporter": "python",
   "pygments_lexer": "ipython3",
   "version": "3.12.7"
  }
 },
 "nbformat": 4,
 "nbformat_minor": 5
}
