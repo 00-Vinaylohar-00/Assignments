{
 "cells": [
  {
   "cell_type": "code",
   "execution_count": 11,
   "id": "3e67c7ea-a832-4715-9a6b-5d8eb8058a4d",
   "metadata": {},
   "outputs": [
    {
     "name": "stdout",
     "output_type": "stream",
     "text": [
      "2025-03-01 19:23:38.497357\n"
     ]
    }
   ],
   "source": [
    "import datetime\n",
    "Current_datetime=datetime.datetime.now()\n",
    "print(Current_datetime)"
   ]
  },
  {
   "cell_type": "code",
   "execution_count": 15,
   "id": "4a32f4ee-c283-4073-bc2f-72ddad623acf",
   "metadata": {},
   "outputs": [
    {
     "name": "stdout",
     "output_type": "stream",
     "text": [
      "2022-07-04 00:00:00\n"
     ]
    }
   ],
   "source": [
    "import datetime\n",
    "date_object=datetime.datetime(2022,7,4)\n",
    "print(date_object)"
   ]
  },
  {
   "cell_type": "code",
   "execution_count": 21,
   "id": "5d3e1cea-de7d-4bc7-bd22-dea5e56e69a3",
   "metadata": {},
   "outputs": [
    {
     "name": "stdout",
     "output_type": "stream",
     "text": [
      "December\n"
     ]
    }
   ],
   "source": [
    "import datetime\n",
    "Month_of_year=datetime.datetime(2001,12,15)\n",
    "print(Month_of_year.strftime(\"%B\"))"
   ]
  },
  {
   "cell_type": "code",
   "execution_count": 25,
   "id": "0dfbe305-47ad-4e64-8b06-11748beed0be",
   "metadata": {},
   "outputs": [
    {
     "data": {
      "text/plain": [
       "9.0"
      ]
     },
     "execution_count": 25,
     "metadata": {},
     "output_type": "execute_result"
    }
   ],
   "source": [
    "import math\n",
    "y= math.sqrt(81)\n",
    "y"
   ]
  },
  {
   "cell_type": "code",
   "execution_count": 27,
   "id": "8bf947d0-4191-48d1-8480-67530247921b",
   "metadata": {},
   "outputs": [
    {
     "data": {
      "text/plain": [
       "(9, 8)"
      ]
     },
     "execution_count": 27,
     "metadata": {},
     "output_type": "execute_result"
    }
   ],
   "source": [
    "import math \n",
    "x=math.ceil(8.3)\n",
    "y=math.floor(8.3)\n",
    "x,y"
   ]
  },
  {
   "cell_type": "code",
   "execution_count": 29,
   "id": "b526a470-bdfe-4e1f-baaf-d5e4132ba089",
   "metadata": {},
   "outputs": [
    {
     "data": {
      "text/plain": [
       "32"
      ]
     },
     "execution_count": 29,
     "metadata": {},
     "output_type": "execute_result"
    }
   ],
   "source": [
    "z=pow(2,5)\n",
    "z"
   ]
  },
  {
   "cell_type": "code",
   "execution_count": 37,
   "id": "146b3577-3b0c-4a89-8638-21ac065b0408",
   "metadata": {},
   "outputs": [
    {
     "data": {
      "text/plain": [
       "3.141592653589793"
      ]
     },
     "execution_count": 37,
     "metadata": {},
     "output_type": "execute_result"
    }
   ],
   "source": [
    "import math\n",
    "Value_pi=math.pi\n",
    "Value_pi"
   ]
  },
  {
   "cell_type": "code",
   "execution_count": 63,
   "id": "9e5a6600-42ee-4ba3-b6a6-1736123f2182",
   "metadata": {},
   "outputs": [
    {
     "name": "stdout",
     "output_type": "stream",
     "text": [
      "6\n",
      "3\n",
      "2\n"
     ]
    }
   ],
   "source": [
    "class wing():\n",
    "    def string (self,n_string):\n",
    "        return (len(n_string))\n",
    "\n",
    "    def tuple_len(self,tuple_1):\n",
    "        return (len(tuple_1))\n",
    "\n",
    "    def dict_len(self,my_dict):\n",
    "        return (len(my_dict))\n",
    "\n",
    "a=wing()\n",
    "n_string=\"python\"\n",
    "tuple_1=(1,2,3)\n",
    "Dict_nary={\"name\":\"jhon\", \"age\":30}\n",
    "print(a.string(n_string))\n",
    "print(a.tuple_len(tuple_1))\n",
    "print(a.dict_len(Dict_nary))"
   ]
  },
  {
   "cell_type": "code",
   "execution_count": 81,
   "id": "6f3f0ede-cb69-42d6-af9b-31973c312231",
   "metadata": {},
   "outputs": [
    {
     "name": "stdout",
     "output_type": "stream",
     "text": [
      "bark bark\n",
      "maw maw\n",
      "crow crow\n"
     ]
    }
   ],
   "source": [
    "class Dog():\n",
    "    def speak(self):\n",
    "        print(\"bark bark\")\n",
    "\n",
    "class Cat():\n",
    "    def speak(self):\n",
    "        print(\"maw maw\")\n",
    "\n",
    "class Bird():\n",
    "    def speak(self):\n",
    "        print(\"crow crow\")\n",
    "\n",
    "a=Dog()\n",
    "b=Cat()\n",
    "c=Bird()\n",
    "\n",
    "d=[a,b,c]\n",
    "for i in d:\n",
    "    i.speak()\n",
    "##a.speak()\n",
    "##b.speak()\n",
    "##c.speak()"
   ]
  },
  {
   "cell_type": "code",
   "execution_count": 97,
   "id": "0dbf3615-15b7-4430-9f97-94618b7d8452",
   "metadata": {},
   "outputs": [
    {
     "data": {
      "text/plain": [
       "10"
      ]
     },
     "execution_count": 97,
     "metadata": {},
     "output_type": "execute_result"
    }
   ],
   "source": [
    "f=open(\"notes_1.txt\",\"w\")\n",
    "f.write(\"First Line\")\n",
    "\n"
   ]
  },
  {
   "cell_type": "code",
   "execution_count": 99,
   "id": "acd79ba8-9845-4b94-b10f-f73151f4df1a",
   "metadata": {},
   "outputs": [
    {
     "name": "stdout",
     "output_type": "stream",
     "text": [
      "First Line\n"
     ]
    }
   ],
   "source": [
    "f=open(\"notes_1.txt\",\"r\")\n",
    "x=f.read()\n",
    "print(x)"
   ]
  },
  {
   "cell_type": "code",
   "execution_count": 109,
   "id": "03926d42-434a-4869-8e84-e8492864c787",
   "metadata": {},
   "outputs": [
    {
     "data": {
      "text/plain": [
       "12"
      ]
     },
     "execution_count": 109,
     "metadata": {},
     "output_type": "execute_result"
    }
   ],
   "source": [
    "f=open(\"notes_1.txt\",\"a\")\n",
    "f.write(\"Second line\\n\")\n",
    "\n"
   ]
  },
  {
   "cell_type": "code",
   "execution_count": 111,
   "id": "7acd7190-a613-405c-9c5f-0ba20bfa5982",
   "metadata": {},
   "outputs": [
    {
     "name": "stdout",
     "output_type": "stream",
     "text": [
      "First Line\n",
      "Second line\n"
     ]
    }
   ],
   "source": [
    "R=open(\"notes_1.txt\",\"r\")\n",
    "v=R.read()\n",
    "print(v)"
   ]
  },
  {
   "cell_type": "code",
   "execution_count": 137,
   "id": "4bf5cd2d-5084-41b7-8974-0fbefc739b57",
   "metadata": {},
   "outputs": [
    {
     "ename": "AttributeError",
     "evalue": "module 'ntpath' has no attribute 'exist'",
     "output_type": "error",
     "traceback": [
      "\u001b[1;31m---------------------------------------------------------------------------\u001b[0m",
      "\u001b[1;31mAttributeError\u001b[0m                            Traceback (most recent call last)",
      "Cell \u001b[1;32mIn[137], line 2\u001b[0m\n\u001b[0;32m      1\u001b[0m \u001b[38;5;28;01mimport\u001b[39;00m \u001b[38;5;21;01mos\u001b[39;00m\n\u001b[1;32m----> 2\u001b[0m \u001b[38;5;28;01mif\u001b[39;00m os\u001b[38;5;241m.\u001b[39mpath\u001b[38;5;241m.\u001b[39mexist(\u001b[38;5;124m\"\u001b[39m\u001b[38;5;124mtextfile.txt\u001b[39m\u001b[38;5;124m\"\u001b[39m):\n\u001b[0;32m      3\u001b[0m     os\u001b[38;5;241m.\u001b[39mremove(\u001b[38;5;124m\"\u001b[39m\u001b[38;5;124mtextfil.txt\u001b[39m\u001b[38;5;124m\"\u001b[39m)\n\u001b[0;32m      4\u001b[0m     \u001b[38;5;28mprint\u001b[39m(\u001b[38;5;124m\"\u001b[39m\u001b[38;5;124mfile deleted\u001b[39m\u001b[38;5;124m\"\u001b[39m)\n",
      "\u001b[1;31mAttributeError\u001b[0m: module 'ntpath' has no attribute 'exist'"
     ]
    }
   ],
   "source": [
    "import os\n",
    "if os.path.exist(\"textfile.txt\"):\n",
    "    os.remove(\"textfil.txt\")\n",
    "    print(\"file deleted\")\n",
    "else:\n",
    "    print(\"File does not exist\")"
   ]
  },
  {
   "cell_type": "code",
   "execution_count": null,
   "id": "abab4883-2fa0-4e44-9034-66e04aa9522a",
   "metadata": {},
   "outputs": [],
   "source": []
  }
 ],
 "metadata": {
  "kernelspec": {
   "display_name": "Python [conda env:base] *",
   "language": "python",
   "name": "conda-base-py"
  },
  "language_info": {
   "codemirror_mode": {
    "name": "ipython",
    "version": 3
   },
   "file_extension": ".py",
   "mimetype": "text/x-python",
   "name": "python",
   "nbconvert_exporter": "python",
   "pygments_lexer": "ipython3",
   "version": "3.12.7"
  }
 },
 "nbformat": 4,
 "nbformat_minor": 5
}
