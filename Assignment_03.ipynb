{
 "cells": [
  {
   "cell_type": "code",
   "execution_count": 3,
   "id": "5ee6af92-32be-46de-b1e3-f0f054f74c43",
   "metadata": {},
   "outputs": [
    {
     "data": {
      "text/plain": [
       "'Pune'"
      ]
     },
     "execution_count": 3,
     "metadata": {},
     "output_type": "execute_result"
    }
   ],
   "source": [
    "City=\"Pune\"\n",
    "City"
   ]
  },
  {
   "cell_type": "code",
   "execution_count": 6,
   "id": "38d472e3-9f88-4cc3-b5fc-a2f32b3c0326",
   "metadata": {},
   "outputs": [
    {
     "name": "stdout",
     "output_type": "stream",
     "text": [
      "<class 'str'>\n"
     ]
    }
   ],
   "source": [
    "print(type(City))"
   ]
  },
  {
   "cell_type": "code",
   "execution_count": 8,
   "id": "0c30640f-0703-4b33-a686-5e09e5821ba9",
   "metadata": {},
   "outputs": [
    {
     "data": {
      "text/plain": [
       "42"
      ]
     },
     "execution_count": 8,
     "metadata": {},
     "output_type": "execute_result"
    }
   ],
   "source": [
    "a=42\n",
    "a"
   ]
  },
  {
   "cell_type": "code",
   "execution_count": 10,
   "id": "beacd2f0-2aa6-495e-a8dc-84a03f677d65",
   "metadata": {},
   "outputs": [
    {
     "data": {
      "text/plain": [
       "'42'"
      ]
     },
     "execution_count": 10,
     "metadata": {},
     "output_type": "execute_result"
    }
   ],
   "source": [
    "str(a)"
   ]
  },
  {
   "cell_type": "code",
   "execution_count": 12,
   "id": "81422c6b-bd0f-486c-aa4d-db0d804a4a9a",
   "metadata": {},
   "outputs": [
    {
     "data": {
      "text/plain": [
       "42"
      ]
     },
     "execution_count": 12,
     "metadata": {},
     "output_type": "execute_result"
    }
   ],
   "source": [
    "B=a\n",
    "B"
   ]
  },
  {
   "cell_type": "code",
   "execution_count": 14,
   "id": "4840f111-2b7c-41f0-8823-8b49c0a79ec8",
   "metadata": {},
   "outputs": [
    {
     "name": "stdout",
     "output_type": "stream",
     "text": [
      "<class 'int'>\n"
     ]
    }
   ],
   "source": [
    "print(type(B))"
   ]
  },
  {
   "cell_type": "code",
   "execution_count": 18,
   "id": "9463e0eb-acce-4ae9-8610-05de28b8ca76",
   "metadata": {},
   "outputs": [
    {
     "data": {
      "text/plain": [
       "'42'"
      ]
     },
     "execution_count": 18,
     "metadata": {},
     "output_type": "execute_result"
    }
   ],
   "source": [
    "B=str(a)\n",
    "B"
   ]
  },
  {
   "cell_type": "code",
   "execution_count": 20,
   "id": "a5b24f6c-87b1-4cd4-aacf-be4cb912aa98",
   "metadata": {},
   "outputs": [
    {
     "data": {
      "text/plain": [
       "11"
      ]
     },
     "execution_count": 20,
     "metadata": {},
     "output_type": "execute_result"
    }
   ],
   "source": [
    "Name=\"Vinay lohar\"\n",
    "len(Name)"
   ]
  },
  {
   "cell_type": "code",
   "execution_count": 26,
   "id": "3cde95f3-012e-4ffc-96cd-9401e15dfe20",
   "metadata": {},
   "outputs": [
    {
     "name": "stdout",
     "output_type": "stream",
     "text": [
      "Yes, It is their\n"
     ]
    }
   ],
   "source": [
    "c=\"code square\"\n",
    "if \"code\" in c:\n",
    "    print(\"Yes, It is their\")\n",
    "else:\n",
    "    print(\"No, Its not their\")"
   ]
  },
  {
   "cell_type": "code",
   "execution_count": null,
   "id": "d8b72729-c33a-4ea1-ba73-1d91a730dde5",
   "metadata": {},
   "outputs": [],
   "source": []
  }
 ],
 "metadata": {
  "kernelspec": {
   "display_name": "Python [conda env:base] *",
   "language": "python",
   "name": "conda-base-py"
  },
  "language_info": {
   "codemirror_mode": {
    "name": "ipython",
    "version": 3
   },
   "file_extension": ".py",
   "mimetype": "text/x-python",
   "name": "python",
   "nbconvert_exporter": "python",
   "pygments_lexer": "ipython3",
   "version": "3.12.7"
  }
 },
 "nbformat": 4,
 "nbformat_minor": 5
}
