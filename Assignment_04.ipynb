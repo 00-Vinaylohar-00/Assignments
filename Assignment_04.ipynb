{
 "cells": [
  {
   "cell_type": "markdown",
   "id": "8dafa1e3-e54c-4437-98ec-b7474c9e4166",
   "metadata": {},
   "source": [
    "Arithmatic Operator in Python             "
   ]
  },
  {
   "cell_type": "markdown",
   "id": "07ba9392-8d83-4f18-9308-cd71ae8b68ef",
   "metadata": {},
   "source": [
    "\n",
    "\n",
    "\n",
    "\n",
    "\n",
    "A=10\n",
    "B=20\n",
    "A+B"
   ]
  },
  {
   "cell_type": "code",
   "execution_count": 3,
   "id": "33fc7af8-3c98-4af3-9a48-3b6b2919959b",
   "metadata": {},
   "outputs": [
    {
     "data": {
      "text/plain": [
       "-10"
      ]
     },
     "execution_count": 3,
     "metadata": {},
     "output_type": "execute_result"
    }
   ],
   "source": [
    "A-B"
   ]
  },
  {
   "cell_type": "code",
   "execution_count": 5,
   "id": "71440eff-87a8-49b0-a94b-254ba6eeddb6",
   "metadata": {},
   "outputs": [
    {
     "data": {
      "text/plain": [
       "200"
      ]
     },
     "execution_count": 5,
     "metadata": {},
     "output_type": "execute_result"
    }
   ],
   "source": [
    "A*B"
   ]
  },
  {
   "cell_type": "markdown",
   "id": "84413704-fb5e-429c-a7fc-29e24390e3de",
   "metadata": {},
   "source": [
    "A/B"
   ]
  },
  {
   "cell_type": "code",
   "execution_count": 9,
   "id": "81c966a6-d9af-4f86-90d2-900478fcb9b7",
   "metadata": {},
   "outputs": [
    {
     "data": {
      "text/plain": [
       "0"
      ]
     },
     "execution_count": 9,
     "metadata": {},
     "output_type": "execute_result"
    }
   ],
   "source": [
    "A//B"
   ]
  },
  {
   "cell_type": "code",
   "execution_count": 11,
   "id": "7a15eec8-7f4a-40ad-bacd-7211fe8a16e1",
   "metadata": {},
   "outputs": [
    {
     "data": {
      "text/plain": [
       "10"
      ]
     },
     "execution_count": 11,
     "metadata": {},
     "output_type": "execute_result"
    }
   ],
   "source": [
    "A%B"
   ]
  },
  {
   "cell_type": "code",
   "execution_count": 13,
   "id": "e3fbf9fc-01ea-4cbe-8f63-0f267aa6e9ee",
   "metadata": {},
   "outputs": [
    {
     "data": {
      "text/plain": [
       "30"
      ]
     },
     "execution_count": 13,
     "metadata": {},
     "output_type": "execute_result"
    }
   ],
   "source": [
    "A^B"
   ]
  },
  {
   "cell_type": "code",
   "execution_count": 15,
   "id": "8e2677b5-281b-40fa-8ec5-fa14841a8f00",
   "metadata": {},
   "outputs": [
    {
     "data": {
      "text/plain": [
       "100000000000000000000"
      ]
     },
     "execution_count": 15,
     "metadata": {},
     "output_type": "execute_result"
    }
   ],
   "source": [
    "A**B"
   ]
  },
  {
   "cell_type": "markdown",
   "id": "9b3ddbd5-d8e1-4225-b4d2-d4dc90d6bba7",
   "metadata": {},
   "source": [
    "\n",
    "Comparison Operators\n"
   ]
  },
  {
   "cell_type": "code",
   "execution_count": 17,
   "id": "72ac9005-b0af-4426-abde-23f71e4184a1",
   "metadata": {},
   "outputs": [
    {
     "data": {
      "text/plain": [
       "False"
      ]
     },
     "execution_count": 17,
     "metadata": {},
     "output_type": "execute_result"
    }
   ],
   "source": [
    "\n",
    "C=66\n",
    "D=78\n",
    "\n",
    "C>D\n",
    "\n"
   ]
  },
  {
   "cell_type": "code",
   "execution_count": 26,
   "id": "9240d4ca-afc9-4796-9ba2-0c9a0d892cc8",
   "metadata": {},
   "outputs": [
    {
     "data": {
      "text/plain": [
       "False"
      ]
     },
     "execution_count": 26,
     "metadata": {},
     "output_type": "execute_result"
    }
   ],
   "source": [
    "C<D"
   ]
  },
  {
   "cell_type": "code",
   "execution_count": 30,
   "id": "17892eae-57a0-430c-b772-7d4434ccf4f7",
   "metadata": {},
   "outputs": [
    {
     "data": {
      "text/plain": [
       "False"
      ]
     },
     "execution_count": 30,
     "metadata": {},
     "output_type": "execute_result"
    }
   ],
   "source": [
    "D>C"
   ]
  },
  {
   "cell_type": "code",
   "execution_count": 32,
   "id": "ae38ae21-2661-4ec4-ba04-6cce57ad6bb3",
   "metadata": {},
   "outputs": [
    {
     "data": {
      "text/plain": [
       "True"
      ]
     },
     "execution_count": 32,
     "metadata": {},
     "output_type": "execute_result"
    }
   ],
   "source": [
    "C==D"
   ]
  },
  {
   "cell_type": "code",
   "execution_count": 34,
   "id": "af1e6a35-ef95-4db2-876b-fe6b8d5a05ae",
   "metadata": {},
   "outputs": [
    {
     "data": {
      "text/plain": [
       "False"
      ]
     },
     "execution_count": 34,
     "metadata": {},
     "output_type": "execute_result"
    }
   ],
   "source": [
    "sarang=100\n",
    "vishal=200\n",
    "\n",
    "sarang>vishal"
   ]
  },
  {
   "cell_type": "code",
   "execution_count": 36,
   "id": "583a9cd5-ee5e-487c-af29-c65967db6b85",
   "metadata": {},
   "outputs": [
    {
     "data": {
      "text/plain": [
       "True"
      ]
     },
     "execution_count": 36,
     "metadata": {},
     "output_type": "execute_result"
    }
   ],
   "source": [
    "sarang<vishal"
   ]
  },
  {
   "cell_type": "code",
   "execution_count": 38,
   "id": "a985496c-8b09-4678-a690-e1aadb968032",
   "metadata": {},
   "outputs": [
    {
     "data": {
      "text/plain": [
       "False"
      ]
     },
     "execution_count": 38,
     "metadata": {},
     "output_type": "execute_result"
    }
   ],
   "source": [
    "sarang==vishal"
   ]
  },
  {
   "cell_type": "code",
   "execution_count": 40,
   "id": "33ba483e-e2e0-4696-aac1-7f9035efdb47",
   "metadata": {},
   "outputs": [
    {
     "data": {
      "text/plain": [
       "True"
      ]
     },
     "execution_count": 40,
     "metadata": {},
     "output_type": "execute_result"
    }
   ],
   "source": [
    "sarang!=vishal"
   ]
  },
  {
   "cell_type": "code",
   "execution_count": 52,
   "id": "44c7304e-5ca4-4c67-a4ae-3bb13b190ea6",
   "metadata": {},
   "outputs": [
    {
     "data": {
      "text/plain": [
       "True"
      ]
     },
     "execution_count": 52,
     "metadata": {},
     "output_type": "execute_result"
    }
   ],
   "source": [
    "P1=\"Mohit\"\n",
    "Q1=\"Harshit\"\n",
    "\n",
    "P1 > Q1 "
   ]
  },
  {
   "cell_type": "code",
   "execution_count": 54,
   "id": "834f693b-8f3d-48af-884f-846c4f1b837f",
   "metadata": {},
   "outputs": [
    {
     "data": {
      "text/plain": [
       "False"
      ]
     },
     "execution_count": 54,
     "metadata": {},
     "output_type": "execute_result"
    }
   ],
   "source": [
    "P1<Q1"
   ]
  },
  {
   "cell_type": "code",
   "execution_count": 56,
   "id": "f3227c24-56c5-4fdd-a5f4-d170484b6db5",
   "metadata": {},
   "outputs": [
    {
     "data": {
      "text/plain": [
       "False"
      ]
     },
     "execution_count": 56,
     "metadata": {},
     "output_type": "execute_result"
    }
   ],
   "source": [
    "P1==Q1"
   ]
  },
  {
   "cell_type": "code",
   "execution_count": 58,
   "id": "87007768-7f5a-4fa7-8523-be4108d18cfd",
   "metadata": {},
   "outputs": [
    {
     "data": {
      "text/plain": [
       "True"
      ]
     },
     "execution_count": 58,
     "metadata": {},
     "output_type": "execute_result"
    }
   ],
   "source": [
    "P1!=Q1"
   ]
  },
  {
   "cell_type": "code",
   "execution_count": 81,
   "id": "6a397bbf-f048-426d-9a54-ebd5c208c0bf",
   "metadata": {},
   "outputs": [
    {
     "name": "stdout",
     "output_type": "stream",
     "text": [
      "yes it is their\n",
      "not its not their\n"
     ]
    }
   ],
   "source": [
    "string=\"python is very powerfull language\"\n",
    "y=\"is\"\n",
    "z=\"red\"\n",
    "if y in string:\n",
    "    print(\"yes it is their\")\n",
    "else:\n",
    "    print(\"it is not their\")\n",
    "if z in string:\n",
    "    print(\"yes it is their\")\n",
    "else:\n",
    "    print(\"not its not their\")"
   ]
  },
  {
   "cell_type": "code",
   "execution_count": 83,
   "id": "f3c6941f-3476-4246-a1ea-ea16b4b5635a",
   "metadata": {},
   "outputs": [
    {
     "name": "stdout",
     "output_type": "stream",
     "text": [
      "rose\n",
      "lotus\n",
      "plumeria\n",
      "jasmine\n"
     ]
    }
   ],
   "source": [
    "flowers=[\"rose\",\"lotus\",\"plumeria\",\"jasmine\"]\n",
    "for i in flowers:\n",
    "    print(i)"
   ]
  },
  {
   "cell_type": "code",
   "execution_count": 93,
   "id": "5faa3c86-fe52-45e2-a702-2dc14b7c4df7",
   "metadata": {},
   "outputs": [
    {
     "name": "stdout",
     "output_type": "stream",
     "text": [
      "11\n",
      "10\n",
      "9\n",
      "8\n",
      "7\n",
      "6\n",
      "5\n",
      "4\n",
      "3\n",
      "2\n",
      "1\n"
     ]
    }
   ],
   "source": [
    "for i in range(11,0,-1):\n",
    "    print(i)"
   ]
  },
  {
   "cell_type": "code",
   "execution_count": 95,
   "id": "dbb99134-6477-46e5-8966-40189fed37db",
   "metadata": {},
   "outputs": [
    {
     "data": {
      "text/plain": [
       "'nuclear is biochemical attacke'"
      ]
     },
     "execution_count": 95,
     "metadata": {},
     "output_type": "execute_result"
    }
   ],
   "source": [
    "weapon=\"nuclear is biochemical attacker     \"\n",
    "\n",
    "weapon[:-1]"
   ]
  },
  {
   "cell_type": "code",
   "execution_count": 97,
   "id": "78b8268f-9bd9-4184-a70c-c89045012a81",
   "metadata": {},
   "outputs": [
    {
     "data": {
      "text/plain": [
       "'uclea'"
      ]
     },
     "execution_count": 97,
     "metadata": {},
     "output_type": "execute_result"
    }
   ],
   "source": [
    "weapon[1:6:]"
   ]
  },
  {
   "cell_type": "code",
   "execution_count": 101,
   "id": "4a576343-5e48-4bb6-8e19-2a11d70057fd",
   "metadata": {},
   "outputs": [
    {
     "data": {
      "text/plain": [
       "'nceri iceia tak'"
      ]
     },
     "execution_count": 101,
     "metadata": {},
     "output_type": "execute_result"
    }
   ],
   "source": [
    "weapon[0:30:2]"
   ]
  },
  {
   "cell_type": "code",
   "execution_count": 115,
   "id": "52a0349a-0c23-489d-8771-c31b0ac3fb95",
   "metadata": {},
   "outputs": [
    {
     "data": {
      "text/plain": [
       "'lat'"
      ]
     },
     "execution_count": 115,
     "metadata": {},
     "output_type": "execute_result"
    }
   ],
   "source": [
    "weapon[-10:-5:2]"
   ]
  },
  {
   "cell_type": "code",
   "execution_count": 117,
   "id": "a28cb924-6c3b-4f8d-b9fc-3402edec7492",
   "metadata": {},
   "outputs": [
    {
     "data": {
      "text/plain": [
       "'NUCLEAR IS BIOCHEMICAL ATTACKER'"
      ]
     },
     "execution_count": 117,
     "metadata": {},
     "output_type": "execute_result"
    }
   ],
   "source": [
    "weapon.upper()"
   ]
  },
  {
   "cell_type": "code",
   "execution_count": 119,
   "id": "05367e6d-7a22-4399-b185-eec259af35ce",
   "metadata": {},
   "outputs": [
    {
     "data": {
      "text/plain": [
       "'nuclear is biochemical attacker'"
      ]
     },
     "execution_count": 119,
     "metadata": {},
     "output_type": "execute_result"
    }
   ],
   "source": [
    "weapon.lower()"
   ]
  },
  {
   "cell_type": "code",
   "execution_count": 121,
   "id": "7b5e6f68-f882-4784-99d5-4dcb978e8f9e",
   "metadata": {},
   "outputs": [
    {
     "data": {
      "text/plain": [
       "'Nuclear Is Biochemical Attacker'"
      ]
     },
     "execution_count": 121,
     "metadata": {},
     "output_type": "execute_result"
    }
   ],
   "source": [
    "weapon.title()"
   ]
  },
  {
   "cell_type": "code",
   "execution_count": 129,
   "id": "54e2f954-0f10-40a6-a20f-7fbea310fe9b",
   "metadata": {},
   "outputs": [
    {
     "data": {
      "text/plain": [
       "'nuclear is biochemical attacker'"
      ]
     },
     "execution_count": 129,
     "metadata": {},
     "output_type": "execute_result"
    }
   ],
   "source": [
    "weapon.strip()"
   ]
  },
  {
   "cell_type": "code",
   "execution_count": 127,
   "id": "f94f97cc-02cf-45a3-9071-40d2ecda39d0",
   "metadata": {},
   "outputs": [
    {
     "data": {
      "text/plain": [
       "'nuclear is biochemical attacker'"
      ]
     },
     "execution_count": 127,
     "metadata": {},
     "output_type": "execute_result"
    }
   ],
   "source": [
    "weapon"
   ]
  },
  {
   "cell_type": "code",
   "execution_count": 131,
   "id": "03c881a8-6f20-476e-81f6-19a3ba7fe72c",
   "metadata": {},
   "outputs": [
    {
     "data": {
      "text/plain": [
       "'nuclear an biochemical attacker'"
      ]
     },
     "execution_count": 131,
     "metadata": {},
     "output_type": "execute_result"
    }
   ],
   "source": [
    "weapon.replace(\"is\",\"an\")"
   ]
  },
  {
   "cell_type": "code",
   "execution_count": 138,
   "id": "e505a87a-62fe-4928-a8e9-0c712d2f69ff",
   "metadata": {},
   "outputs": [
    {
     "data": {
      "text/plain": [
       "'nuclear is Radioactive attacker'"
      ]
     },
     "execution_count": 138,
     "metadata": {},
     "output_type": "execute_result"
    }
   ],
   "source": [
    "weapon.replace(\"biochemical\",\"Radioactive\")"
   ]
  },
  {
   "cell_type": "code",
   "execution_count": 140,
   "id": "86fb43b6-3c43-4762-94e7-1ef9be6b6529",
   "metadata": {},
   "outputs": [
    {
     "data": {
      "text/plain": [
       "['nuclear', 'is', 'biochemical', 'attacker']"
      ]
     },
     "execution_count": 140,
     "metadata": {},
     "output_type": "execute_result"
    }
   ],
   "source": [
    "weapon.split()"
   ]
  },
  {
   "cell_type": "code",
   "execution_count": 164,
   "id": "a1e9f1d0-4475-41e3-9686-712712f62219",
   "metadata": {},
   "outputs": [
    {
     "name": "stdout",
     "output_type": "stream",
     "text": [
      "nuclear is biochemical attacker\n"
     ]
    }
   ],
   "source": [
    "joining_list=\"\".join(weapon)\n",
    "print(joining_list)"
   ]
  },
  {
   "cell_type": "code",
   "execution_count": 174,
   "id": "8eaf4dbb-9d5c-4f5d-a183-af12733cb106",
   "metadata": {},
   "outputs": [
    {
     "data": {
      "text/plain": [
       "['jahagirdar', 3.14, 97, True, None, {'Vinay': 'mechanical'}]"
      ]
     },
     "execution_count": 174,
     "metadata": {},
     "output_type": "execute_result"
    }
   ],
   "source": [
    "list_with_diff_data=[\"jahagirdar\",3.14,97,True,None,{\"Vinay\":\"mechanical\"}]\n",
    "list_with_diff_data"
   ]
  },
  {
   "cell_type": "code",
   "execution_count": 176,
   "id": "e19d87e1-5aed-4724-bdec-b106380b7ada",
   "metadata": {},
   "outputs": [
    {
     "data": {
      "text/plain": [
       "['jahagirdar', 3.14, 97, True, None, {'Vinay': 'mechanical'}]"
      ]
     },
     "execution_count": 176,
     "metadata": {},
     "output_type": "execute_result"
    }
   ],
   "source": [
    "list_with_diff_data[::]"
   ]
  },
  {
   "cell_type": "code",
   "execution_count": 178,
   "id": "9ee8d1c3-3122-4ac4-bdc2-543fa9d2781d",
   "metadata": {},
   "outputs": [
    {
     "data": {
      "text/plain": [
       "['jahagirdar', 3.14, 97, True, None, {'Vinay': 'mechanical'}]"
      ]
     },
     "execution_count": 178,
     "metadata": {},
     "output_type": "execute_result"
    }
   ],
   "source": [
    "list_with_diff_data[0:20:]"
   ]
  },
  {
   "cell_type": "code",
   "execution_count": 180,
   "id": "eaca3f5c-e976-4240-b46d-bbd85359e42b",
   "metadata": {},
   "outputs": [
    {
     "data": {
      "text/plain": [
       "['jahagirdar', 97, None]"
      ]
     },
     "execution_count": 180,
     "metadata": {},
     "output_type": "execute_result"
    }
   ],
   "source": [
    "list_with_diff_data[0:20:2]"
   ]
  },
  {
   "cell_type": "code",
   "execution_count": 186,
   "id": "382eb9d2-3073-4598-b783-02f98c6a552a",
   "metadata": {},
   "outputs": [
    {
     "data": {
      "text/plain": [
       "[3.14, 97, True, None]"
      ]
     },
     "execution_count": 186,
     "metadata": {},
     "output_type": "execute_result"
    }
   ],
   "source": [
    "list_with_diff_data[-5:-1:]"
   ]
  },
  {
   "cell_type": "code",
   "execution_count": 202,
   "id": "6a5b01ad-a43d-41f3-9cab-2371416dddc8",
   "metadata": {},
   "outputs": [
    {
     "data": {
      "text/plain": [
       "['jahagirdar', 97, None]"
      ]
     },
     "execution_count": 202,
     "metadata": {},
     "output_type": "execute_result"
    }
   ],
   "source": [
    "list_with_diff_data[-10:-1:2]"
   ]
  },
  {
   "cell_type": "code",
   "execution_count": 204,
   "id": "5aa46b26-0383-43b1-8db4-bad64783be5c",
   "metadata": {},
   "outputs": [],
   "source": [
    "list_with_diff_data.append(\"lohar\")"
   ]
  },
  {
   "cell_type": "code",
   "execution_count": 206,
   "id": "4ed83bc0-6b8c-4978-80a3-80866c326d42",
   "metadata": {},
   "outputs": [
    {
     "data": {
      "text/plain": [
       "['jahagirdar', 3.14, 97, True, None, {'Vinay': 'mechanical'}, 'lohar']"
      ]
     },
     "execution_count": 206,
     "metadata": {},
     "output_type": "execute_result"
    }
   ],
   "source": [
    "list_with_diff_data"
   ]
  },
  {
   "cell_type": "code",
   "execution_count": 220,
   "id": "81cf008b-772a-44e9-93c9-9d96da74d15a",
   "metadata": {},
   "outputs": [
    {
     "data": {
      "text/plain": [
       "['jahagirdar',\n",
       " 'prudhvee',\n",
       " 3.14,\n",
       " 97,\n",
       " True,\n",
       " 'prudhvee',\n",
       " None,\n",
       " {'Vinay': 'mechanical'},\n",
       " 'lohar']"
      ]
     },
     "execution_count": 220,
     "metadata": {},
     "output_type": "execute_result"
    }
   ],
   "source": [
    "list_with_diff_data.insert(5,\"prudhvee\")\n",
    "list_with_diff_data"
   ]
  },
  {
   "cell_type": "code",
   "execution_count": 222,
   "id": "1d03a69b-e047-4e55-a67a-6ad109cd85b8",
   "metadata": {},
   "outputs": [],
   "source": [
    "list_with_diff_data.remove(None)"
   ]
  },
  {
   "cell_type": "code",
   "execution_count": 224,
   "id": "64eeb804-10bc-4624-875f-cd91ab820183",
   "metadata": {},
   "outputs": [
    {
     "data": {
      "text/plain": [
       "['jahagirdar',\n",
       " 'prudhvee',\n",
       " 3.14,\n",
       " 97,\n",
       " True,\n",
       " 'prudhvee',\n",
       " {'Vinay': 'mechanical'},\n",
       " 'lohar']"
      ]
     },
     "execution_count": 224,
     "metadata": {},
     "output_type": "execute_result"
    }
   ],
   "source": [
    "list_with_diff_data"
   ]
  },
  {
   "cell_type": "code",
   "execution_count": 226,
   "id": "1d47c1d8-7c0f-49f6-8817-9dee5c20e444",
   "metadata": {},
   "outputs": [
    {
     "data": {
      "text/plain": [
       "'lohar'"
      ]
     },
     "execution_count": 226,
     "metadata": {},
     "output_type": "execute_result"
    }
   ],
   "source": [
    "list_with_diff_data.pop()"
   ]
  },
  {
   "cell_type": "code",
   "execution_count": 235,
   "id": "b82aec43-8a4a-4e55-91cf-650e75ebe0c7",
   "metadata": {},
   "outputs": [
    {
     "data": {
      "text/plain": [
       "{'Vinay': 'mechanical'}"
      ]
     },
     "execution_count": 235,
     "metadata": {},
     "output_type": "execute_result"
    }
   ],
   "source": [
    "list_with_diff_data.pop()"
   ]
  },
  {
   "cell_type": "code",
   "execution_count": 245,
   "id": "14dca6c0-6672-494f-a917-0f7361af189b",
   "metadata": {},
   "outputs": [],
   "source": [
    "del list_with_diff_data[5]"
   ]
  },
  {
   "cell_type": "code",
   "execution_count": 247,
   "id": "31ffcd0d-1c7c-40fe-946c-b8040cfa6ca0",
   "metadata": {},
   "outputs": [
    {
     "data": {
      "text/plain": [
       "['jahagirdar', 'prudhvee', 3.14, 97, True]"
      ]
     },
     "execution_count": 247,
     "metadata": {},
     "output_type": "execute_result"
    }
   ],
   "source": [
    "list_with_diff_data"
   ]
  },
  {
   "cell_type": "code",
   "execution_count": 249,
   "id": "8c68cf79-1a71-457b-a4c2-3a63c71298bd",
   "metadata": {},
   "outputs": [],
   "source": [
    "del list_with_diff_data"
   ]
  },
  {
   "cell_type": "code",
   "execution_count": 251,
   "id": "613b8e5e-7bcc-427e-bb98-fa77182712d7",
   "metadata": {},
   "outputs": [
    {
     "ename": "NameError",
     "evalue": "name 'list_with_diff_data' is not defined",
     "output_type": "error",
     "traceback": [
      "\u001b[1;31m---------------------------------------------------------------------------\u001b[0m",
      "\u001b[1;31mNameError\u001b[0m                                 Traceback (most recent call last)",
      "Cell \u001b[1;32mIn[251], line 1\u001b[0m\n\u001b[1;32m----> 1\u001b[0m list_with_diff_data\n",
      "\u001b[1;31mNameError\u001b[0m: name 'list_with_diff_data' is not defined"
     ]
    }
   ],
   "source": [
    "list_with_diff_data"
   ]
  },
  {
   "cell_type": "code",
   "execution_count": 255,
   "id": "31b13706-3fc5-48fa-aadc-355417ba8735",
   "metadata": {},
   "outputs": [],
   "source": [
    "list_1=[1,2,3,4,\"power\",True]\n",
    "list_2=[\"one\",\"two\",\"three\",\"data\",False]\n",
    "List_03=list_1 + list_2"
   ]
  },
  {
   "cell_type": "code",
   "execution_count": 257,
   "id": "5aa6e0b8-c0e7-434c-a696-584e0e1093c5",
   "metadata": {},
   "outputs": [
    {
     "data": {
      "text/plain": [
       "[1, 2, 3, 4, 'power', True, 'one', 'two', 'three', 'data', False]"
      ]
     },
     "execution_count": 257,
     "metadata": {},
     "output_type": "execute_result"
    }
   ],
   "source": [
    "List_03"
   ]
  },
  {
   "cell_type": "code",
   "execution_count": 298,
   "id": "d97f63cc-dd20-4988-a79c-4338b502fff1",
   "metadata": {},
   "outputs": [
    {
     "name": "stdout",
     "output_type": "stream",
     "text": [
      "1\n",
      "2\n",
      "3\n",
      "4\n",
      "power\n",
      "True\n",
      "one\n",
      "two\n",
      "three\n",
      "data\n",
      "False\n",
      "yes it is their\n"
     ]
    }
   ],
   "source": [
    "for item in List_03:\n",
    "    print(item)\n",
    "if (str(item).lower()==\"data\" for item in List_03):\n",
    "     print(\"yes it is their\")\n",
    "else:\n",
    "     print(\"Its not their\")\n",
    "    "
   ]
  },
  {
   "cell_type": "code",
   "execution_count": null,
   "id": "145db570-fba3-4d56-829f-5204f457217d",
   "metadata": {},
   "outputs": [],
   "source": []
  }
 ],
 "metadata": {
  "kernelspec": {
   "display_name": "Python [conda env:base] *",
   "language": "python",
   "name": "conda-base-py"
  },
  "language_info": {
   "codemirror_mode": {
    "name": "ipython",
    "version": 3
   },
   "file_extension": ".py",
   "mimetype": "text/x-python",
   "name": "python",
   "nbconvert_exporter": "python",
   "pygments_lexer": "ipython3",
   "version": "3.12.7"
  }
 },
 "nbformat": 4,
 "nbformat_minor": 5
}
