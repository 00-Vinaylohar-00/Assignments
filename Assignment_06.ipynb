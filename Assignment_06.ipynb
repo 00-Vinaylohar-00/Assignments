{
 "cells": [
  {
   "cell_type": "markdown",
   "id": "a5d3dcbb-aecb-4a5b-b541-235437199b3a",
   "metadata": {},
   "source": [
    "# "
   ]
  },
  {
   "cell_type": "code",
   "execution_count": 1,
   "id": "91cd080d-77c3-4637-b2cc-29f02bfea0de",
   "metadata": {},
   "outputs": [
    {
     "data": {
      "text/plain": [
       "25"
      ]
     },
     "execution_count": 1,
     "metadata": {},
     "output_type": "execute_result"
    }
   ],
   "source": [
    "v=lambda x:x**2\n",
    "v(5)"
   ]
  },
  {
   "cell_type": "code",
   "execution_count": 5,
   "id": "d5f5e762-6abc-478b-8495-352dcec66e1d",
   "metadata": {},
   "outputs": [
    {
     "data": {
      "text/plain": [
       "60"
      ]
     },
     "execution_count": 5,
     "metadata": {},
     "output_type": "execute_result"
    }
   ],
   "source": [
    "a=lambda p,q,r: p*q*r\n",
    "a(3,4,5)"
   ]
  },
  {
   "cell_type": "code",
   "execution_count": 7,
   "id": "38735e6d-40a1-4f7c-a60f-f254eaa9d41c",
   "metadata": {},
   "outputs": [
    {
     "data": {
      "text/plain": [
       "20"
      ]
     },
     "execution_count": 7,
     "metadata": {},
     "output_type": "execute_result"
    }
   ],
   "source": [
    "b=lambda x,y:x if x>y else y\n",
    "b(10,20)"
   ]
  },
  {
   "cell_type": "code",
   "execution_count": 37,
   "id": "6f35fc3f-9b0d-4b90-bf09-4acce6321aeb",
   "metadata": {},
   "outputs": [
    {
     "name": "stdout",
     "output_type": "stream",
     "text": [
      "[2, 4, 6, 8, 10]\n"
     ]
    }
   ],
   "source": [
    "num=[1,2,3,4,5,6,7,8,9,10]\n",
    "even_num=list(filter(lambda x:x%2==0,num)) \n",
    "print(even_num)"
   ]
  },
  {
   "cell_type": "code",
   "execution_count": 47,
   "id": "9ef49a59-2cf1-4ca5-920f-0d49c83605f0",
   "metadata": {},
   "outputs": [
    {
     "data": {
      "text/plain": [
       "[2, 4, 6, 8, 10]"
      ]
     },
     "execution_count": 47,
     "metadata": {},
     "output_type": "execute_result"
    }
   ],
   "source": [
    "nums=[1,2,3,4,5,6,7,8,9,10]\n",
    "even_nums = list(filter(lambda x: x % 2 == 0, nums))\n",
    "even_nums"
   ]
  },
  {
   "cell_type": "code",
   "execution_count": 77,
   "id": "aa575d49-b525-45e2-af06-1737bcb09ffd",
   "metadata": {},
   "outputs": [
    {
     "name": "stdout",
     "output_type": "stream",
     "text": [
      "Dog\n",
      "Buddy\n"
     ]
    }
   ],
   "source": [
    "class Animal:\n",
    "    def __init__ (self,species,name):\n",
    "        self.species=species\n",
    "        self.name=name\n",
    "p1=Animal(\"Dog\",\"Buddy\")\n",
    "print(p1.species)\n",
    "print(p1.name)\n",
    "\n"
   ]
  },
  {
   "cell_type": "code",
   "execution_count": 113,
   "id": "a18b0696-95a6-449c-a5d4-4c0c953ef1ee",
   "metadata": {},
   "outputs": [
    {
     "name": "stdout",
     "output_type": "stream",
     "text": [
      "Car information:ford,Mustang,year1972\n"
     ]
    }
   ],
   "source": [
    "class car:\n",
    "    def __init__(self,brand,model,year):\n",
    "        self.brand=brand\n",
    "        self.model=model\n",
    "        self.year=year\n",
    "\n",
    "    def Car_info(self):\n",
    "         print(f\"Car information:{self.brand},{self.model},year{self.year}\")\n",
    "\n",
    "A1=car(\"ford\",\"Mustang\",1972)\n",
    "A1.Car_info()\n",
    "\n",
    "        \n",
    "\n"
   ]
  },
  {
   "cell_type": "code",
   "execution_count": 124,
   "id": "b14f4575-9e0d-4f43-8072-a883301003b3",
   "metadata": {},
   "outputs": [
    {
     "name": "stdout",
     "output_type": "stream",
     "text": [
      "Hello my name is:Alice\n"
     ]
    }
   ],
   "source": [
    "\n",
    "class Person:\n",
    "    def __init__ (self,name):\n",
    "       self.name=name\n",
    "\n",
    "    def Introduce(self):\n",
    "       print(f\"Hello my name is:{self.name}\")\n",
    "\n",
    "B1=Person(\"Alice\")\n",
    "B1.Introduce()\n",
    "\n",
    "    "
   ]
  },
  {
   "cell_type": "code",
   "execution_count": 156,
   "id": "058c37c4-442e-40e6-bf4b-9f98db0e9e01",
   "metadata": {},
   "outputs": [
    {
     "name": "stdout",
     "output_type": "stream",
     "text": [
      "Average grade for Alice is 56.67\n"
     ]
    }
   ],
   "source": [
    "class Student:\n",
    "    def __init__(self,name,grades):\n",
    "        self.name=name\n",
    "        self.grades=grades\n",
    "\n",
    "    def Avarage_grade(self):\n",
    "        if self.grades:\n",
    "            return sum(self.grades)/len(self.grades)\n",
    "        else:\n",
    "            return 0\n",
    "\n",
    "\n",
    "C1=Student(\"Alice\",[30,40,50,60,70,90])\n",
    "Avarage=C1.Avarage_grade()\n",
    "print(f\"Average grade for {C1.name} is {Avarage:.2f}\")"
   ]
  },
  {
   "cell_type": "code",
   "execution_count": 180,
   "id": "8ce3801d-91f9-44cb-b186-ed3d67a39210",
   "metadata": {},
   "outputs": [
    {
     "name": "stdin",
     "output_type": "stream",
     "text": [
      " 2030\n"
     ]
    },
    {
     "name": "stdout",
     "output_type": "stream",
     "text": [
      "Age of book is 31\n"
     ]
    }
   ],
   "source": [
    "\n",
    "class Book:\n",
    "    def __init__(self,title,author,year_published):\n",
    "        self.title=title\n",
    "        self.autor=author\n",
    "        self.year_published=year_published\n",
    "\n",
    "    def Book_age(self):\n",
    "        ##current_year= datetime.now().year\n",
    "        return current_year-(self.year_published)\n",
    "\n",
    "current_year=int(input())\n",
    "D1=Book(\"secreat\",\"Paul\",1999)\n",
    "age=D1.Book_age()\n",
    "print(f\"Age of book is {age}\")"
   ]
  },
  {
   "cell_type": "code",
   "execution_count": 206,
   "id": "a5a3d3d8-3030-49f8-b3c0-88fa3ba4e094",
   "metadata": {},
   "outputs": [
    {
     "name": "stdout",
     "output_type": "stream",
     "text": [
      "The final balance is : 31000\n"
     ]
    }
   ],
   "source": [
    "class Bank_account():\n",
    "    def __init__(self,owner,balance):\n",
    "        self.owner=owner\n",
    "        self.balance=balance\n",
    "\n",
    "    def Diposit(self,amount):\n",
    "        if amount > 0:\n",
    "            self.balance=self.balance+amount\n",
    "        else:\n",
    "            print(\"diposit amount must be positive\")\n",
    "    \n",
    "    def Withdrawal(self,amount):\n",
    "        if amount > 0 and amount<= self.balance:\n",
    "            self.balance=self.balance-amount\n",
    "        else:\n",
    "            print(\"Insufficient funds\")\n",
    "        \n",
    "    def Final_balance(self):\n",
    "        return self.balance\n",
    "\n",
    "E1=Bank_account(\"ramesh\",19000)\n",
    "E1.Diposit(22000)\n",
    "E1.Withdrawal(10000)\n",
    "Final=E1.Final_balance()\n",
    "print(f\"The final balance is : {Final}\")\n",
    "\n",
    "        "
   ]
  },
  {
   "cell_type": "code",
   "execution_count": 216,
   "id": "f35520fd-c8d9-4f5e-b14c-0e52e7f52c17",
   "metadata": {},
   "outputs": [
    {
     "name": "stdout",
     "output_type": "stream",
     "text": [
      "the addition of a,b is:30, the Substraction of a,b is:-10,the Multiplication of a,b is 200,the division of a,b is :0.5\n"
     ]
    }
   ],
   "source": [
    "class Calculator:\n",
    "    def __init__(self,a,b):\n",
    "        self.a=a\n",
    "        self.b=b\n",
    "\n",
    "    def Addition(self,a,b):\n",
    "        return self.a+self.b\n",
    "\n",
    "    def Substraction(self,a,b):\n",
    "        return self.a-self.b\n",
    "\n",
    "    def Multiplication(self,a,b):\n",
    "        return self.a*self.b\n",
    "\n",
    "    def Division(self,a,b):\n",
    "        return self.a/self.b\n",
    "\n",
    "H1=Calculator(10,20)\n",
    "p=H1.Addition(10,20)\n",
    "q=H1.Substraction(10,20)\n",
    "n=H1.Multiplication(10,20)\n",
    "r=H1.Division(10,20)\n",
    "print(f\"the addition of a,b is:{p}, the Substraction of a,b is:{q},the Multiplication of a,b is {n},the division of a,b is :{r}\")"
   ]
  },
  {
   "cell_type": "code",
   "execution_count": null,
   "id": "8516bd80-6654-451d-a200-06060ddf7f77",
   "metadata": {},
   "outputs": [],
   "source": []
  }
 ],
 "metadata": {
  "kernelspec": {
   "display_name": "Python [conda env:base] *",
   "language": "python",
   "name": "conda-base-py"
  },
  "language_info": {
   "codemirror_mode": {
    "name": "ipython",
    "version": 3
   },
   "file_extension": ".py",
   "mimetype": "text/x-python",
   "name": "python",
   "nbconvert_exporter": "python",
   "pygments_lexer": "ipython3",
   "version": "3.12.7"
  }
 },
 "nbformat": 4,
 "nbformat_minor": 5
}
