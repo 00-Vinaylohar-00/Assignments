{
 "cells": [
  {
   "cell_type": "code",
   "execution_count": 16,
   "id": "8e723aa3-156c-4bcd-b96a-196abef05746",
   "metadata": {},
   "outputs": [
    {
     "data": {
      "text/plain": [
       "'Mustang'"
      ]
     },
     "execution_count": 16,
     "metadata": {},
     "output_type": "execute_result"
    }
   ],
   "source": [
    "Car=\"Mustang\"\n",
    "Car"
   ]
  },
  {
   "cell_type": "code",
   "execution_count": 18,
   "id": "f0c1ef49-1ba9-408d-aeff-e5faade30f2b",
   "metadata": {},
   "outputs": [
    {
     "data": {
      "text/plain": [
       "30"
      ]
     },
     "execution_count": 18,
     "metadata": {},
     "output_type": "execute_result"
    }
   ],
   "source": [
    "Group=30\n",
    "Group"
   ]
  },
  {
   "cell_type": "code",
   "execution_count": 20,
   "id": "aa34f730-963e-4239-b114-818d48e5d632",
   "metadata": {},
   "outputs": [
    {
     "data": {
      "text/plain": [
       "3.14"
      ]
     },
     "execution_count": 20,
     "metadata": {},
     "output_type": "execute_result"
    }
   ],
   "source": [
    "Float=3.14\n",
    "Float"
   ]
  },
  {
   "cell_type": "code",
   "execution_count": 22,
   "id": "a786da88-8fca-4351-8ee8-b16ad594595c",
   "metadata": {},
   "outputs": [
    {
     "data": {
      "text/plain": [
       "True"
      ]
     },
     "execution_count": 22,
     "metadata": {},
     "output_type": "execute_result"
    }
   ],
   "source": [
    "Boolean=True\n",
    "Boolean"
   ]
  },
  {
   "cell_type": "code",
   "execution_count": 30,
   "id": "c69f26ce-48da-4bd1-91e7-e9d8c5a688b9",
   "metadata": {},
   "outputs": [
    {
     "data": {
      "text/plain": [
       "'Start the Work'"
      ]
     },
     "execution_count": 30,
     "metadata": {},
     "output_type": "execute_result"
    }
   ],
   "source": [
    "Vinay=\"Start the Work\"\n",
    "Vinay"
   ]
  },
  {
   "cell_type": "code",
   "execution_count": null,
   "id": "6c5228a6-6873-4304-abc7-44b4e86bdb45",
   "metadata": {},
   "outputs": [],
   "source": []
  }
 ],
 "metadata": {
  "kernelspec": {
   "display_name": "Python [conda env:base] *",
   "language": "python",
   "name": "conda-base-py"
  },
  "language_info": {
   "codemirror_mode": {
    "name": "ipython",
    "version": 3
   },
   "file_extension": ".py",
   "mimetype": "text/x-python",
   "name": "python",
   "nbconvert_exporter": "python",
   "pygments_lexer": "ipython3",
   "version": "3.12.7"
  }
 },
 "nbformat": 4,
 "nbformat_minor": 5
}
