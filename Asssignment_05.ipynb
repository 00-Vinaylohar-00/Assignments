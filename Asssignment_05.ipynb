{
 "cells": [
  {
   "cell_type": "code",
   "execution_count": 2,
   "id": "4449d5b7-0b7a-4bfb-87ea-9bec64854c94",
   "metadata": {},
   "outputs": [
    {
     "name": "stdout",
     "output_type": "stream",
     "text": [
      "b is greater then a\n"
     ]
    }
   ],
   "source": [
    "a=56\n",
    "b=89\n",
    "if a > b:\n",
    "    print(\"a is greater than b\")\n",
    "else:\n",
    "    print (\"b is greater then a\")"
   ]
  },
  {
   "cell_type": "code",
   "execution_count": 6,
   "id": "764627f1-0a00-4afa-9b8b-e278dc2de46d",
   "metadata": {},
   "outputs": [
    {
     "name": "stdout",
     "output_type": "stream",
     "text": [
      "a and b are equal\n"
     ]
    }
   ],
   "source": [
    "a=88\n",
    "b=88\n",
    "if a > b:\n",
    "    print(\"a is graeter than b\")\n",
    "elif b > a:\n",
    "    print(\"b is grater than a\")\n",
    "elif a==b:\n",
    "    print(\"a and b are equal\")\n",
    "else:\n",
    "    print(\"No result\")"
   ]
  },
  {
   "cell_type": "code",
   "execution_count": 8,
   "id": "4dce0625-8ccd-4958-86b2-d73f86355c27",
   "metadata": {},
   "outputs": [
    {
     "name": "stdout",
     "output_type": "stream",
     "text": [
      "a is graeter than b\n"
     ]
    }
   ],
   "source": [
    "a=99\n",
    "b=88\n",
    "if a > b:\n",
    "    print(\"a is graeter than b\")\n",
    "elif b > a:\n",
    "    print(\"b is grater than a\")\n",
    "elif a==b:\n",
    "    print(\"a and b are equal\")\n",
    "else:\n",
    "    print(\"No result\")"
   ]
  },
  {
   "cell_type": "code",
   "execution_count": 10,
   "id": "5a632fdd-2635-498a-a14a-a6542e47bd24",
   "metadata": {},
   "outputs": [
    {
     "data": {
      "text/plain": [
       "('apple', 'banana', 'cherry')"
      ]
     },
     "execution_count": 10,
     "metadata": {},
     "output_type": "execute_result"
    }
   ],
   "source": [
    "Fruits=(\"apple\",\"banana\",\"cherry\")\n",
    "Fruits"
   ]
  },
  {
   "cell_type": "code",
   "execution_count": 12,
   "id": "85ef07ea-793a-46c0-bbbf-784d2e365d29",
   "metadata": {},
   "outputs": [
    {
     "data": {
      "text/plain": [
       "'cherry'"
      ]
     },
     "execution_count": 12,
     "metadata": {},
     "output_type": "execute_result"
    }
   ],
   "source": [
    "Fruits[2]"
   ]
  },
  {
   "cell_type": "code",
   "execution_count": 18,
   "id": "1da5ada8-0861-4680-b91c-c01b4b362182",
   "metadata": {},
   "outputs": [
    {
     "data": {
      "text/plain": [
       "('apple',)"
      ]
     },
     "execution_count": 18,
     "metadata": {},
     "output_type": "execute_result"
    }
   ],
   "source": [
    "fruit=(\"apple\",)\n",
    "fruit"
   ]
  },
  {
   "cell_type": "code",
   "execution_count": 20,
   "id": "c30107ae-e7bc-4693-ad4d-661bd93e6903",
   "metadata": {},
   "outputs": [
    {
     "data": {
      "text/plain": [
       "tuple"
      ]
     },
     "execution_count": 20,
     "metadata": {},
     "output_type": "execute_result"
    }
   ],
   "source": [
    "type(fruit)"
   ]
  },
  {
   "cell_type": "code",
   "execution_count": 24,
   "id": "0810cbcf-ef3a-47f6-bbef-81f5cd4b2bbb",
   "metadata": {},
   "outputs": [
    {
     "data": {
      "text/plain": [
       "('apple', 'banana', 'cherry')"
      ]
     },
     "execution_count": 24,
     "metadata": {},
     "output_type": "execute_result"
    }
   ],
   "source": [
    "Fruits=(\"apple\",\"banana\",\"cherry\")\n",
    "Fruits"
   ]
  },
  {
   "cell_type": "code",
   "execution_count": 36,
   "id": "6fa9d5a9-8658-4d54-a60b-c76f954eeaeb",
   "metadata": {},
   "outputs": [
    {
     "name": "stdout",
     "output_type": "stream",
     "text": [
      "apple\n",
      "banana\n",
      "cherry\n",
      "yes apple is present\n"
     ]
    }
   ],
   "source": [
    "for i in Fruits:\n",
    "    print(i)\n",
    "    \n",
    "if \"apple\" in Fruits:\n",
    "    print(\"yes apple is present\")\n",
    "else:\n",
    "    print(\"it is not present\")"
   ]
  },
  {
   "cell_type": "code",
   "execution_count": 38,
   "id": "cfc0917d-eca9-476b-84bb-7b0a83abff49",
   "metadata": {},
   "outputs": [
    {
     "data": {
      "text/plain": [
       "('apple', 'banana', 'cherry')"
      ]
     },
     "execution_count": 38,
     "metadata": {},
     "output_type": "execute_result"
    }
   ],
   "source": [
    "Fruits=(\"apple\",\"banana\",\"cherry\")\n",
    "Fruits"
   ]
  },
  {
   "cell_type": "code",
   "execution_count": 40,
   "id": "48aee50e-7c3e-4969-a195-f0540e4e491c",
   "metadata": {},
   "outputs": [
    {
     "data": {
      "text/plain": [
       "['apple', 'banana', 'cherry']"
      ]
     },
     "execution_count": 40,
     "metadata": {},
     "output_type": "execute_result"
    }
   ],
   "source": [
    "Fruits=list(Fruits)\n",
    "Fruits"
   ]
  },
  {
   "cell_type": "code",
   "execution_count": 48,
   "id": "f25a0e0e-c845-49bf-a0bc-867aa23da4fa",
   "metadata": {},
   "outputs": [
    {
     "data": {
      "text/plain": [
       "['apple', 'kiwi', 'cherry']"
      ]
     },
     "execution_count": 48,
     "metadata": {},
     "output_type": "execute_result"
    }
   ],
   "source": [
    "Fruits[1]=\"kiwi\"\n",
    "Fruits"
   ]
  },
  {
   "cell_type": "code",
   "execution_count": 50,
   "id": "a5baed51-8e3b-4786-a7c7-830bde5e6118",
   "metadata": {},
   "outputs": [
    {
     "data": {
      "text/plain": [
       "{'apple', 'banana', 'cherry'}"
      ]
     },
     "execution_count": 50,
     "metadata": {},
     "output_type": "execute_result"
    }
   ],
   "source": [
    "set_1={\"apple\",\"banana\",\"cherry\"}\n",
    "set_1"
   ]
  },
  {
   "cell_type": "code",
   "execution_count": 52,
   "id": "85def249-6cf8-4969-a5f2-0f1a404fe72a",
   "metadata": {},
   "outputs": [
    {
     "data": {
      "text/plain": [
       "{'apple', 'banana', 'cherry', 'orange'}"
      ]
     },
     "execution_count": 52,
     "metadata": {},
     "output_type": "execute_result"
    }
   ],
   "source": [
    "set_1.add(\"orange\")\n",
    "set_1"
   ]
  },
  {
   "cell_type": "code",
   "execution_count": 54,
   "id": "59ab3032-6422-415f-b54d-3d92645c4a88",
   "metadata": {},
   "outputs": [
    {
     "data": {
      "text/plain": [
       "{'apple', 'cherry', 'orange'}"
      ]
     },
     "execution_count": 54,
     "metadata": {},
     "output_type": "execute_result"
    }
   ],
   "source": [
    "set_1.remove(\"banana\")\n",
    "set_1"
   ]
  },
  {
   "cell_type": "code",
   "execution_count": 56,
   "id": "fb2f2e9a-bbc6-4004-9e17-f34a49e026a8",
   "metadata": {},
   "outputs": [
    {
     "name": "stdout",
     "output_type": "stream",
     "text": [
      "apple\n",
      "banana\n",
      "cherry\n"
     ]
    }
   ],
   "source": [
    "Fruits=(\"apple\",\"banana\",\"cherry\")\n",
    "for i in Fruits:\n",
    "    print(i)"
   ]
  },
  {
   "cell_type": "code",
   "execution_count": 62,
   "id": "e0538c2c-042d-4b18-8265-aaf423bda4c1",
   "metadata": {},
   "outputs": [
    {
     "data": {
      "text/plain": [
       "['kiwi', 'orange']"
      ]
     },
     "execution_count": 62,
     "metadata": {},
     "output_type": "execute_result"
    }
   ],
   "source": [
    "fruit_a={\"apple\",\"banana\",\"cherry\"}\n",
    "fruit_a\n",
    "fruit_b={\"pineapple\",\"mango\",\"papaya\"}\n",
    "fruit_b\n",
    "fruit_c=[\"kiwi\",\"orange\"]\n",
    "fruit_c"
   ]
  },
  {
   "cell_type": "code",
   "execution_count": 83,
   "id": "ec5c9549-8e4b-42be-85ae-3736675a4888",
   "metadata": {},
   "outputs": [
    {
     "ename": "TypeError",
     "evalue": "unsupported operand type(s) for +: 'NoneType' and 'list'",
     "output_type": "error",
     "traceback": [
      "\u001b[1;31m---------------------------------------------------------------------------\u001b[0m",
      "\u001b[1;31mTypeError\u001b[0m                                 Traceback (most recent call last)",
      "Cell \u001b[1;32mIn[83], line 1\u001b[0m\n\u001b[1;32m----> 1\u001b[0m fruit_a\u001b[38;5;241m.\u001b[39mupdate(fruit_b)\u001b[38;5;241m+\u001b[39m(fruit_c)\n\u001b[0;32m      2\u001b[0m fruit_a\n",
      "\u001b[1;31mTypeError\u001b[0m: unsupported operand type(s) for +: 'NoneType' and 'list'"
     ]
    }
   ],
   "source": [
    "fruit_a.update(fruit_b)+(fruit_c)\n",
    "fruit_a"
   ]
  },
  {
   "cell_type": "code",
   "execution_count": 81,
   "id": "967dcb05-834e-434c-8294-39ea74eb3f26",
   "metadata": {},
   "outputs": [
    {
     "data": {
      "text/plain": [
       "{'apple', 'banana', 'cherry', 'kiwi', 'mango', 'orange', 'papaya', 'pineapple'}"
      ]
     },
     "execution_count": 81,
     "metadata": {},
     "output_type": "execute_result"
    }
   ],
   "source": [
    "fruit_a.update(fruit_c)\n",
    "fruit_a"
   ]
  },
  {
   "cell_type": "code",
   "execution_count": null,
   "id": "26036521-dcd1-4141-a124-94f053edf4ac",
   "metadata": {},
   "outputs": [],
   "source": []
  }
 ],
 "metadata": {
  "kernelspec": {
   "display_name": "Python [conda env:base] *",
   "language": "python",
   "name": "conda-base-py"
  },
  "language_info": {
   "codemirror_mode": {
    "name": "ipython",
    "version": 3
   },
   "file_extension": ".py",
   "mimetype": "text/x-python",
   "name": "python",
   "nbconvert_exporter": "python",
   "pygments_lexer": "ipython3",
   "version": "3.12.7"
  }
 },
 "nbformat": 4,
 "nbformat_minor": 5
}
