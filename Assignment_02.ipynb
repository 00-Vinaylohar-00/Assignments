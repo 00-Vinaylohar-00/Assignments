{
 "cells": [
  {
   "cell_type": "code",
   "execution_count": 29,
   "id": "cf61d459-7eb7-4ba5-8691-132ee44152c7",
   "metadata": {},
   "outputs": [
    {
     "data": {
      "text/plain": [
       "'Vinay Lohar'"
      ]
     },
     "execution_count": 29,
     "metadata": {},
     "output_type": "execute_result"
    }
   ],
   "source": [
    "First_name=\"Vinay\"\n",
    "Last_Name=\" Lohar\"\n",
    "First_name+Last_Name"
   ]
  },
  {
   "cell_type": "code",
   "execution_count": 37,
   "id": "a6c3b299-8ebd-40fb-95ac-cc40064f4635",
   "metadata": {},
   "outputs": [
    {
     "data": {
      "text/plain": [
       "'Vinay'"
      ]
     },
     "execution_count": 37,
     "metadata": {},
     "output_type": "execute_result"
    }
   ],
   "source": [
    "First_name[0:6:]"
   ]
  },
  {
   "cell_type": "code",
   "execution_count": 33,
   "id": "9bee812e-f1eb-4fcc-96cc-43a8f31143b4",
   "metadata": {},
   "outputs": [
    {
     "data": {
      "text/plain": [
       "'Vinay'"
      ]
     },
     "execution_count": 33,
     "metadata": {},
     "output_type": "execute_result"
    }
   ],
   "source": [
    "First_name[-5:]"
   ]
  },
  {
   "cell_type": "code",
   "execution_count": 35,
   "id": "b60d4c5c-590f-414b-b8bd-56033a84f476",
   "metadata": {},
   "outputs": [
    {
     "data": {
      "text/plain": [
       "'Vinay'"
      ]
     },
     "execution_count": 35,
     "metadata": {},
     "output_type": "execute_result"
    }
   ],
   "source": [
    "First_name[-5::]"
   ]
  },
  {
   "cell_type": "code",
   "execution_count": 43,
   "id": "45734200-ee97-4c24-b9e0-74199c33bf1c",
   "metadata": {},
   "outputs": [
    {
     "data": {
      "text/plain": [
       "' Lohar'"
      ]
     },
     "execution_count": 43,
     "metadata": {},
     "output_type": "execute_result"
    }
   ],
   "source": [
    "Last_Name[0:6:]"
   ]
  },
  {
   "cell_type": "code",
   "execution_count": 45,
   "id": "72d4cd7f-9574-4cd3-953e-77848832d709",
   "metadata": {},
   "outputs": [
    {
     "data": {
      "text/plain": [
       "'Lohar'"
      ]
     },
     "execution_count": 45,
     "metadata": {},
     "output_type": "execute_result"
    }
   ],
   "source": [
    "Last_Name[-5::]"
   ]
  },
  {
   "cell_type": "code",
   "execution_count": 49,
   "id": "603ad9ef-6f6c-415a-8e2a-061e7f11fba2",
   "metadata": {},
   "outputs": [
    {
     "data": {
      "text/plain": [
       "' Lohar'"
      ]
     },
     "execution_count": 49,
     "metadata": {},
     "output_type": "execute_result"
    }
   ],
   "source": [
    "Last_Name[-6:]"
   ]
  },
  {
   "cell_type": "code",
   "execution_count": 51,
   "id": "88a55bdb-3095-4d48-b6ae-cc8c5c5a723e",
   "metadata": {},
   "outputs": [
    {
     "data": {
      "text/plain": [
       "['Maharastra',\n",
       " 'Karnataka',\n",
       " 'Telangana',\n",
       " 'Andhraparadesh',\n",
       " 'Goa',\n",
       " 'Gujrat',\n",
       " 'UtterPradesh',\n",
       " 'Tamilnadu',\n",
       " 'Delhi']"
      ]
     },
     "execution_count": 51,
     "metadata": {},
     "output_type": "execute_result"
    }
   ],
   "source": [
    "State=[\"Maharastra\",\"Karnataka\",\"Telangana\",\"Andhraparadesh\",\"Goa\",\"Gujrat\",\"UtterPradesh\",\"Tamilnadu\",\"Delhi\"]\n",
    "State"
   ]
  },
  {
   "cell_type": "code",
   "execution_count": null,
   "id": "abc90fb2-f779-4f63-8e1d-38f0a110e0f5",
   "metadata": {},
   "outputs": [],
   "source": [
    "for i in range(State):\n",
    "    print"
   ]
  }
 ],
 "metadata": {
  "kernelspec": {
   "display_name": "Python [conda env:base] *",
   "language": "python",
   "name": "conda-base-py"
  },
  "language_info": {
   "codemirror_mode": {
    "name": "ipython",
    "version": 3
   },
   "file_extension": ".py",
   "mimetype": "text/x-python",
   "name": "python",
   "nbconvert_exporter": "python",
   "pygments_lexer": "ipython3",
   "version": "3.12.7"
  }
 },
 "nbformat": 4,
 "nbformat_minor": 5
}
